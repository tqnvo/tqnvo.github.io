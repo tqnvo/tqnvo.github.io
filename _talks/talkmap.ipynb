{
 "cells": [
  {
   "attachments": {},
   "cell_type": "markdown",
   "metadata": {},
   "source": [
    "# Leaflet cluster map of talk locations\n",
    "\n",
    "Run this from the _talks/ directory, which contains .md files of all your talks. This scrapes the location YAML field from each .md file, geolocates it with geopy/Nominatim, and uses the getorg library to output data, HTML, and Javascript for a standalone cluster map."
   ]
  },
  {
   "cell_type": "code",
   "execution_count": 42,
   "metadata": {
    "collapsed": false
   },
   "outputs": [
    {
     "name": "stdout",
     "output_type": "stream",
     "text": [
      "Defaulting to user installation because normal site-packages is not writeable\n",
      "Requirement already satisfied: getorg in /home/vo/.local/lib/python3.10/site-packages (0.3.1)\n",
      "Requirement already satisfied: retrying in /home/vo/.local/lib/python3.10/site-packages (from getorg) (1.3.4)\n",
      "Requirement already satisfied: pygithub in /home/vo/.local/lib/python3.10/site-packages (from getorg) (1.58.2)\n",
      "Requirement already satisfied: geopy in /home/vo/.local/lib/python3.10/site-packages (from getorg) (2.3.0)\n",
      "Requirement already satisfied: geographiclib<3,>=1.52 in /home/vo/.local/lib/python3.10/site-packages (from geopy->getorg) (2.0)\n",
      "Requirement already satisfied: requests>=2.14.0 in /usr/lib/python3/dist-packages (from pygithub->getorg) (2.25.1)\n",
      "Requirement already satisfied: deprecated in /home/vo/.local/lib/python3.10/site-packages (from pygithub->getorg) (1.2.13)\n",
      "Requirement already satisfied: pyjwt[crypto]>=2.4.0 in /home/vo/.local/lib/python3.10/site-packages (from pygithub->getorg) (2.7.0)\n",
      "Requirement already satisfied: pynacl>=1.4.0 in /usr/lib/python3/dist-packages (from pygithub->getorg) (1.5.0)\n",
      "Requirement already satisfied: six>=1.7.0 in /usr/lib/python3/dist-packages (from retrying->getorg) (1.16.0)\n",
      "Requirement already satisfied: cryptography>=3.4.0 in /usr/lib/python3/dist-packages (from pyjwt[crypto]>=2.4.0->pygithub->getorg) (3.4.8)\n",
      "Requirement already satisfied: cffi>=1.4.1 in /home/vo/.local/lib/python3.10/site-packages (from pynacl>=1.4.0->pygithub->getorg) (1.15.1)\n",
      "Requirement already satisfied: wrapt<2,>=1.10 in /home/vo/.local/lib/python3.10/site-packages (from deprecated->pygithub->getorg) (1.15.0)\n",
      "Requirement already satisfied: pycparser in /home/vo/.local/lib/python3.10/site-packages (from cffi>=1.4.1->pynacl>=1.4.0->pygithub->getorg) (2.21)\n"
     ]
    }
   ],
   "source": [
    "!pip install getorg --upgrade\n",
    "import glob\n",
    "import getorg\n",
    "from geopy import Nominatim"
   ]
  },
  {
   "cell_type": "code",
   "execution_count": 43,
   "metadata": {
    "collapsed": false
   },
   "outputs": [],
   "source": [
    "g = glob.glob(\"*.md\")"
   ]
  },
  {
   "cell_type": "code",
   "execution_count": 44,
   "metadata": {
    "collapsed": true
   },
   "outputs": [],
   "source": [
    "geocoder = Nominatim(user_agent=\"http\")\n",
    "location_dict = {}\n",
    "location = \"\"\n",
    "permalink = \"\"\n",
    "title = \"\""
   ]
  },
  {
   "cell_type": "code",
   "execution_count": 45,
   "metadata": {
    "collapsed": false
   },
   "outputs": [
    {
     "name": "stdout",
     "output_type": "stream",
     "text": [
      "Cambridge, England \n",
      " Cambridge, Cambridgeshire, Cambridgeshire and Peterborough, England, United Kingdom\n",
      "Stuttgart, Germany \n",
      " Stuttgart, Baden-Württemberg, Deutschland\n",
      "Aachen, Germany \n",
      " Aachen, Städteregion Aachen, Nordrhein-Westfalen, Deutschland\n",
      "Amsterdam, Netherlands \n",
      " Amsterdam, Noord-Holland, Nederland\n",
      "Beijing, China \n",
      " 北京市, 东城区, 北京市, 100010, 中国\n",
      "Gothenburg, Sweden \n",
      " Göteborg, Göteborgs Stad, Västra Götalands län, 411 10, Sverige\n",
      "Stockholm, Sweden \n",
      " Stockholm, Stockholms kommun, Stockholms län, 111 29, Sverige\n",
      "Oxford, England \n",
      " Oxford, Oxfordshire, England, United Kingdom\n"
     ]
    }
   ],
   "source": [
    "\n",
    "for file in g:\n",
    "    with open(file, 'r') as f:\n",
    "        lines = f.read()\n",
    "        if lines.find('location: \"') > 1:\n",
    "            loc_start = lines.find('location: \"') + 11\n",
    "            lines_trim = lines[loc_start:]\n",
    "            loc_end = lines_trim.find('\"')\n",
    "            location = lines_trim[:loc_end]\n",
    "                            \n",
    "           \n",
    "        location_dict[location] = geocoder.geocode(location)\n",
    "        print(location, \"\\n\", location_dict[location])\n"
   ]
  },
  {
   "cell_type": "code",
   "execution_count": 46,
   "metadata": {
    "collapsed": false
   },
   "outputs": [
    {
     "data": {
      "text/plain": [
       "'Written map to ../talkmap/'"
      ]
     },
     "execution_count": 46,
     "metadata": {},
     "output_type": "execute_result"
    }
   ],
   "source": [
    "m = getorg.orgmap.create_map_obj()\n",
    "getorg.orgmap.output_html_cluster_map(location_dict, folder_name=\"../talkmap\", hashed_usernames=False)"
   ]
  }
 ],
 "metadata": {
  "anaconda-cloud": {},
  "kernelspec": {
   "display_name": "Python 3",
   "language": "python",
   "name": "python3"
  },
  "language_info": {
   "codemirror_mode": {
    "name": "ipython",
    "version": 3
   },
   "file_extension": ".py",
   "mimetype": "text/x-python",
   "name": "python",
   "nbconvert_exporter": "python",
   "pygments_lexer": "ipython3",
   "version": "3.10.6"
  }
 },
 "nbformat": 4,
 "nbformat_minor": 0
}
